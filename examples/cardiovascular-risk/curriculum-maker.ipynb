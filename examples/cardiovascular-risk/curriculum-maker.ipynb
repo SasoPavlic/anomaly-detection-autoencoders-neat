{
 "metadata": {
  "kernelspec": {
   "language": "python",
   "display_name": "Python 3",
   "name": "python3"
  },
  "language_info": {
   "pygments_lexer": "ipython3",
   "nbconvert_exporter": "python",
   "version": "3.6.4",
   "file_extension": ".py",
   "codemirror_mode": {
    "name": "ipython",
    "version": 3
   },
   "name": "python",
   "mimetype": "text/x-python"
  }
 },
 "nbformat_minor": 4,
 "nbformat": 4,
 "cells": [
  {
   "cell_type": "code",
   "source": [
    "# This Python 3 environment comes with many helpful analytics libraries installed\n",
    "# It is defined by the kaggle/python Docker image: https://github.com/kaggle/docker-python\n",
    "# For example, here's several helpful packages to load\n",
    "\n",
    "import numpy as np # linear algebra\n",
    "import pandas as pd # data processing, CSV file I/O (e.g. pd.read_csv)\n",
    "\n",
    "# Input data files are available in the read-only \"../input/\" directory\n",
    "# For example, running this (by clicking run or pressing Shift+Enter) will list all files under the input directory\n",
    "\n",
    "# import os\n",
    "# for dirname, _, filenames in os.walk('/kaggle/input'):\n",
    "#     for filename in filenames:\n",
    "#         print(os.path.join(dirname, filename))\n",
    "\n",
    "# You can write up to 20GB to the current directory (/kaggle/working/) that gets preserved as output when you create a version using \"Save & Run All\" \n",
    "# You can also write temporary files to /kaggle/temp/, but they won't be saved outside of the current session"
   ],
   "metadata": {
    "_uuid": "8f2839f25d086af736a60e9eeb907d3b93b6e0e5",
    "_cell_guid": "b1076dfc-b9ad-4769-8c92-a6c4dae69d19",
    "execution": {
     "iopub.status.busy": "2023-07-03T20:45:57.288261Z",
     "iopub.execute_input": "2023-07-03T20:45:57.288639Z",
     "iopub.status.idle": "2023-07-03T20:45:57.302534Z",
     "shell.execute_reply.started": "2023-07-03T20:45:57.288608Z",
     "shell.execute_reply": "2023-07-03T20:45:57.301558Z"
    },
    "trusted": true,
    "ExecuteTime": {
     "end_time": "2023-08-03T19:14:14.984688700Z",
     "start_time": "2023-08-03T19:14:14.969679400Z"
    }
   },
   "execution_count": 1,
   "outputs": []
  },
  {
   "cell_type": "code",
   "source": [
    "df=pd.read_csv(f'../../datasets/CVD_cleaned.csv')"
   ],
   "metadata": {
    "execution": {
     "iopub.status.busy": "2023-07-03T20:45:57.304298Z",
     "iopub.execute_input": "2023-07-03T20:45:57.305112Z",
     "iopub.status.idle": "2023-07-03T20:45:58.131157Z",
     "shell.execute_reply.started": "2023-07-03T20:45:57.305081Z",
     "shell.execute_reply": "2023-07-03T20:45:58.129979Z"
    },
    "trusted": true,
    "ExecuteTime": {
     "end_time": "2023-08-03T19:14:15.499416100Z",
     "start_time": "2023-08-03T19:14:14.984688700Z"
    }
   },
   "execution_count": 2,
   "outputs": []
  },
  {
   "cell_type": "code",
   "source": [
    "df.head()"
   ],
   "metadata": {
    "execution": {
     "iopub.status.busy": "2023-07-03T20:45:58.132752Z",
     "iopub.execute_input": "2023-07-03T20:45:58.133132Z",
     "iopub.status.idle": "2023-07-03T20:45:58.159Z",
     "shell.execute_reply.started": "2023-07-03T20:45:58.13309Z",
     "shell.execute_reply": "2023-07-03T20:45:58.157928Z"
    },
    "trusted": true,
    "ExecuteTime": {
     "end_time": "2023-08-03T19:14:15.574745300Z",
     "start_time": "2023-08-03T19:14:15.501387800Z"
    }
   },
   "execution_count": 3,
   "outputs": [
    {
     "data": {
      "text/plain": "  General_Health                  Checkup Exercise Heart_Disease Skin_Cancer  \\\n0           Poor  Within the past 2 years       No            No          No   \n1      Very Good     Within the past year       No           Yes          No   \n2      Very Good     Within the past year      Yes            No          No   \n3           Poor     Within the past year      Yes           Yes          No   \n4           Good     Within the past year       No            No          No   \n\n  Other_Cancer Depression Diabetes Arthritis     Sex Age_Category  \\\n0           No         No       No       Yes  Female        70-74   \n1           No         No      Yes        No  Female        70-74   \n2           No         No      Yes        No  Female        60-64   \n3           No         No      Yes        No    Male        75-79   \n4           No         No       No        No    Male          80+   \n\n   Height_(cm)  Weight_(kg)    BMI Smoking_History  Alcohol_Consumption  \\\n0        150.0        32.66  14.54             Yes                  0.0   \n1        165.0        77.11  28.29              No                  0.0   \n2        163.0        88.45  33.47              No                  4.0   \n3        180.0        93.44  28.73              No                  0.0   \n4        191.0        88.45  24.37             Yes                  0.0   \n\n   Fruit_Consumption  Green_Vegetables_Consumption  FriedPotato_Consumption  \n0               30.0                          16.0                     12.0  \n1               30.0                           0.0                      4.0  \n2               12.0                           3.0                     16.0  \n3               30.0                          30.0                      8.0  \n4                8.0                           4.0                      0.0  ",
      "text/html": "<div>\n<style scoped>\n    .dataframe tbody tr th:only-of-type {\n        vertical-align: middle;\n    }\n\n    .dataframe tbody tr th {\n        vertical-align: top;\n    }\n\n    .dataframe thead th {\n        text-align: right;\n    }\n</style>\n<table border=\"1\" class=\"dataframe\">\n  <thead>\n    <tr style=\"text-align: right;\">\n      <th></th>\n      <th>General_Health</th>\n      <th>Checkup</th>\n      <th>Exercise</th>\n      <th>Heart_Disease</th>\n      <th>Skin_Cancer</th>\n      <th>Other_Cancer</th>\n      <th>Depression</th>\n      <th>Diabetes</th>\n      <th>Arthritis</th>\n      <th>Sex</th>\n      <th>Age_Category</th>\n      <th>Height_(cm)</th>\n      <th>Weight_(kg)</th>\n      <th>BMI</th>\n      <th>Smoking_History</th>\n      <th>Alcohol_Consumption</th>\n      <th>Fruit_Consumption</th>\n      <th>Green_Vegetables_Consumption</th>\n      <th>FriedPotato_Consumption</th>\n    </tr>\n  </thead>\n  <tbody>\n    <tr>\n      <th>0</th>\n      <td>Poor</td>\n      <td>Within the past 2 years</td>\n      <td>No</td>\n      <td>No</td>\n      <td>No</td>\n      <td>No</td>\n      <td>No</td>\n      <td>No</td>\n      <td>Yes</td>\n      <td>Female</td>\n      <td>70-74</td>\n      <td>150.0</td>\n      <td>32.66</td>\n      <td>14.54</td>\n      <td>Yes</td>\n      <td>0.0</td>\n      <td>30.0</td>\n      <td>16.0</td>\n      <td>12.0</td>\n    </tr>\n    <tr>\n      <th>1</th>\n      <td>Very Good</td>\n      <td>Within the past year</td>\n      <td>No</td>\n      <td>Yes</td>\n      <td>No</td>\n      <td>No</td>\n      <td>No</td>\n      <td>Yes</td>\n      <td>No</td>\n      <td>Female</td>\n      <td>70-74</td>\n      <td>165.0</td>\n      <td>77.11</td>\n      <td>28.29</td>\n      <td>No</td>\n      <td>0.0</td>\n      <td>30.0</td>\n      <td>0.0</td>\n      <td>4.0</td>\n    </tr>\n    <tr>\n      <th>2</th>\n      <td>Very Good</td>\n      <td>Within the past year</td>\n      <td>Yes</td>\n      <td>No</td>\n      <td>No</td>\n      <td>No</td>\n      <td>No</td>\n      <td>Yes</td>\n      <td>No</td>\n      <td>Female</td>\n      <td>60-64</td>\n      <td>163.0</td>\n      <td>88.45</td>\n      <td>33.47</td>\n      <td>No</td>\n      <td>4.0</td>\n      <td>12.0</td>\n      <td>3.0</td>\n      <td>16.0</td>\n    </tr>\n    <tr>\n      <th>3</th>\n      <td>Poor</td>\n      <td>Within the past year</td>\n      <td>Yes</td>\n      <td>Yes</td>\n      <td>No</td>\n      <td>No</td>\n      <td>No</td>\n      <td>Yes</td>\n      <td>No</td>\n      <td>Male</td>\n      <td>75-79</td>\n      <td>180.0</td>\n      <td>93.44</td>\n      <td>28.73</td>\n      <td>No</td>\n      <td>0.0</td>\n      <td>30.0</td>\n      <td>30.0</td>\n      <td>8.0</td>\n    </tr>\n    <tr>\n      <th>4</th>\n      <td>Good</td>\n      <td>Within the past year</td>\n      <td>No</td>\n      <td>No</td>\n      <td>No</td>\n      <td>No</td>\n      <td>No</td>\n      <td>No</td>\n      <td>No</td>\n      <td>Male</td>\n      <td>80+</td>\n      <td>191.0</td>\n      <td>88.45</td>\n      <td>24.37</td>\n      <td>Yes</td>\n      <td>0.0</td>\n      <td>8.0</td>\n      <td>4.0</td>\n      <td>0.0</td>\n    </tr>\n  </tbody>\n</table>\n</div>"
     },
     "execution_count": 3,
     "metadata": {},
     "output_type": "execute_result"
    }
   ]
  },
  {
   "cell_type": "code",
   "source": [
    "df.info()"
   ],
   "metadata": {
    "execution": {
     "iopub.status.busy": "2023-07-03T20:45:58.161724Z",
     "iopub.execute_input": "2023-07-03T20:45:58.162063Z",
     "iopub.status.idle": "2023-07-03T20:45:59.142601Z",
     "shell.execute_reply.started": "2023-07-03T20:45:58.162034Z",
     "shell.execute_reply": "2023-07-03T20:45:59.141546Z"
    },
    "trusted": true,
    "ExecuteTime": {
     "end_time": "2023-08-03T19:14:15.698241500Z",
     "start_time": "2023-08-03T19:14:15.532024700Z"
    }
   },
   "execution_count": 4,
   "outputs": [
    {
     "name": "stdout",
     "output_type": "stream",
     "text": [
      "<class 'pandas.core.frame.DataFrame'>\n",
      "RangeIndex: 308854 entries, 0 to 308853\n",
      "Data columns (total 19 columns):\n",
      " #   Column                        Non-Null Count   Dtype  \n",
      "---  ------                        --------------   -----  \n",
      " 0   General_Health                308854 non-null  object \n",
      " 1   Checkup                       308854 non-null  object \n",
      " 2   Exercise                      308854 non-null  object \n",
      " 3   Heart_Disease                 308854 non-null  object \n",
      " 4   Skin_Cancer                   308854 non-null  object \n",
      " 5   Other_Cancer                  308854 non-null  object \n",
      " 6   Depression                    308854 non-null  object \n",
      " 7   Diabetes                      308854 non-null  object \n",
      " 8   Arthritis                     308854 non-null  object \n",
      " 9   Sex                           308854 non-null  object \n",
      " 10  Age_Category                  308854 non-null  object \n",
      " 11  Height_(cm)                   308854 non-null  float64\n",
      " 12  Weight_(kg)                   308854 non-null  float64\n",
      " 13  BMI                           308854 non-null  float64\n",
      " 14  Smoking_History               308854 non-null  object \n",
      " 15  Alcohol_Consumption           308854 non-null  float64\n",
      " 16  Fruit_Consumption             308854 non-null  float64\n",
      " 17  Green_Vegetables_Consumption  308854 non-null  float64\n",
      " 18  FriedPotato_Consumption       308854 non-null  float64\n",
      "dtypes: float64(7), object(12)\n",
      "memory usage: 44.8+ MB\n"
     ]
    }
   ]
  },
  {
   "cell_type": "code",
   "source": [
    "df.drop_duplicates()"
   ],
   "metadata": {
    "execution": {
     "iopub.status.busy": "2023-07-03T20:45:59.144072Z",
     "iopub.execute_input": "2023-07-03T20:45:59.144651Z",
     "iopub.status.idle": "2023-07-03T20:45:59.56185Z",
     "shell.execute_reply.started": "2023-07-03T20:45:59.144618Z",
     "shell.execute_reply": "2023-07-03T20:45:59.560918Z"
    },
    "trusted": true,
    "ExecuteTime": {
     "end_time": "2023-08-03T19:14:15.953189600Z",
     "start_time": "2023-08-03T19:14:15.651638400Z"
    }
   },
   "execution_count": 5,
   "outputs": [
    {
     "data": {
      "text/plain": "       General_Health                  Checkup Exercise Heart_Disease  \\\n0                Poor  Within the past 2 years       No            No   \n1           Very Good     Within the past year       No           Yes   \n2           Very Good     Within the past year      Yes            No   \n3                Poor     Within the past year      Yes           Yes   \n4                Good     Within the past year       No            No   \n...               ...                      ...      ...           ...   \n308849      Very Good     Within the past year      Yes            No   \n308850           Fair  Within the past 5 years      Yes            No   \n308851      Very Good      5 or more years ago      Yes            No   \n308852      Very Good     Within the past year      Yes            No   \n308853      Excellent     Within the past year      Yes            No   \n\n       Skin_Cancer Other_Cancer Depression  \\\n0               No           No         No   \n1               No           No         No   \n2               No           No         No   \n3               No           No         No   \n4               No           No         No   \n...            ...          ...        ...   \n308849          No           No         No   \n308850          No           No         No   \n308851          No           No        Yes   \n308852          No           No         No   \n308853          No           No         No   \n\n                                          Diabetes Arthritis     Sex  \\\n0                                               No       Yes  Female   \n1                                              Yes        No  Female   \n2                                              Yes        No  Female   \n3                                              Yes        No    Male   \n4                                               No        No    Male   \n...                                            ...       ...     ...   \n308849                                          No        No    Male   \n308850                                         Yes        No    Male   \n308851  Yes, but female told only during pregnancy        No  Female   \n308852                                          No        No    Male   \n308853                                          No        No  Female   \n\n       Age_Category  Height_(cm)  Weight_(kg)    BMI Smoking_History  \\\n0             70-74        150.0        32.66  14.54             Yes   \n1             70-74        165.0        77.11  28.29              No   \n2             60-64        163.0        88.45  33.47              No   \n3             75-79        180.0        93.44  28.73              No   \n4               80+        191.0        88.45  24.37             Yes   \n...             ...          ...          ...    ...             ...   \n308849        25-29        168.0        81.65  29.05              No   \n308850        65-69        180.0        69.85  21.48              No   \n308851        30-34        157.0        61.23  24.69             Yes   \n308852        65-69        183.0        79.38  23.73              No   \n308853        45-49        160.0        81.19  31.71              No   \n\n        Alcohol_Consumption  Fruit_Consumption  Green_Vegetables_Consumption  \\\n0                       0.0               30.0                          16.0   \n1                       0.0               30.0                           0.0   \n2                       4.0               12.0                           3.0   \n3                       0.0               30.0                          30.0   \n4                       0.0                8.0                           4.0   \n...                     ...                ...                           ...   \n308849                  4.0               30.0                           8.0   \n308850                  8.0               15.0                          60.0   \n308851                  4.0               40.0                           8.0   \n308852                  3.0               30.0                          12.0   \n308853                  1.0                5.0                          12.0   \n\n        FriedPotato_Consumption  \n0                          12.0  \n1                           4.0  \n2                          16.0  \n3                           8.0  \n4                           0.0  \n...                         ...  \n308849                      0.0  \n308850                      4.0  \n308851                      4.0  \n308852                      0.0  \n308853                      1.0  \n\n[308774 rows x 19 columns]",
      "text/html": "<div>\n<style scoped>\n    .dataframe tbody tr th:only-of-type {\n        vertical-align: middle;\n    }\n\n    .dataframe tbody tr th {\n        vertical-align: top;\n    }\n\n    .dataframe thead th {\n        text-align: right;\n    }\n</style>\n<table border=\"1\" class=\"dataframe\">\n  <thead>\n    <tr style=\"text-align: right;\">\n      <th></th>\n      <th>General_Health</th>\n      <th>Checkup</th>\n      <th>Exercise</th>\n      <th>Heart_Disease</th>\n      <th>Skin_Cancer</th>\n      <th>Other_Cancer</th>\n      <th>Depression</th>\n      <th>Diabetes</th>\n      <th>Arthritis</th>\n      <th>Sex</th>\n      <th>Age_Category</th>\n      <th>Height_(cm)</th>\n      <th>Weight_(kg)</th>\n      <th>BMI</th>\n      <th>Smoking_History</th>\n      <th>Alcohol_Consumption</th>\n      <th>Fruit_Consumption</th>\n      <th>Green_Vegetables_Consumption</th>\n      <th>FriedPotato_Consumption</th>\n    </tr>\n  </thead>\n  <tbody>\n    <tr>\n      <th>0</th>\n      <td>Poor</td>\n      <td>Within the past 2 years</td>\n      <td>No</td>\n      <td>No</td>\n      <td>No</td>\n      <td>No</td>\n      <td>No</td>\n      <td>No</td>\n      <td>Yes</td>\n      <td>Female</td>\n      <td>70-74</td>\n      <td>150.0</td>\n      <td>32.66</td>\n      <td>14.54</td>\n      <td>Yes</td>\n      <td>0.0</td>\n      <td>30.0</td>\n      <td>16.0</td>\n      <td>12.0</td>\n    </tr>\n    <tr>\n      <th>1</th>\n      <td>Very Good</td>\n      <td>Within the past year</td>\n      <td>No</td>\n      <td>Yes</td>\n      <td>No</td>\n      <td>No</td>\n      <td>No</td>\n      <td>Yes</td>\n      <td>No</td>\n      <td>Female</td>\n      <td>70-74</td>\n      <td>165.0</td>\n      <td>77.11</td>\n      <td>28.29</td>\n      <td>No</td>\n      <td>0.0</td>\n      <td>30.0</td>\n      <td>0.0</td>\n      <td>4.0</td>\n    </tr>\n    <tr>\n      <th>2</th>\n      <td>Very Good</td>\n      <td>Within the past year</td>\n      <td>Yes</td>\n      <td>No</td>\n      <td>No</td>\n      <td>No</td>\n      <td>No</td>\n      <td>Yes</td>\n      <td>No</td>\n      <td>Female</td>\n      <td>60-64</td>\n      <td>163.0</td>\n      <td>88.45</td>\n      <td>33.47</td>\n      <td>No</td>\n      <td>4.0</td>\n      <td>12.0</td>\n      <td>3.0</td>\n      <td>16.0</td>\n    </tr>\n    <tr>\n      <th>3</th>\n      <td>Poor</td>\n      <td>Within the past year</td>\n      <td>Yes</td>\n      <td>Yes</td>\n      <td>No</td>\n      <td>No</td>\n      <td>No</td>\n      <td>Yes</td>\n      <td>No</td>\n      <td>Male</td>\n      <td>75-79</td>\n      <td>180.0</td>\n      <td>93.44</td>\n      <td>28.73</td>\n      <td>No</td>\n      <td>0.0</td>\n      <td>30.0</td>\n      <td>30.0</td>\n      <td>8.0</td>\n    </tr>\n    <tr>\n      <th>4</th>\n      <td>Good</td>\n      <td>Within the past year</td>\n      <td>No</td>\n      <td>No</td>\n      <td>No</td>\n      <td>No</td>\n      <td>No</td>\n      <td>No</td>\n      <td>No</td>\n      <td>Male</td>\n      <td>80+</td>\n      <td>191.0</td>\n      <td>88.45</td>\n      <td>24.37</td>\n      <td>Yes</td>\n      <td>0.0</td>\n      <td>8.0</td>\n      <td>4.0</td>\n      <td>0.0</td>\n    </tr>\n    <tr>\n      <th>...</th>\n      <td>...</td>\n      <td>...</td>\n      <td>...</td>\n      <td>...</td>\n      <td>...</td>\n      <td>...</td>\n      <td>...</td>\n      <td>...</td>\n      <td>...</td>\n      <td>...</td>\n      <td>...</td>\n      <td>...</td>\n      <td>...</td>\n      <td>...</td>\n      <td>...</td>\n      <td>...</td>\n      <td>...</td>\n      <td>...</td>\n      <td>...</td>\n    </tr>\n    <tr>\n      <th>308849</th>\n      <td>Very Good</td>\n      <td>Within the past year</td>\n      <td>Yes</td>\n      <td>No</td>\n      <td>No</td>\n      <td>No</td>\n      <td>No</td>\n      <td>No</td>\n      <td>No</td>\n      <td>Male</td>\n      <td>25-29</td>\n      <td>168.0</td>\n      <td>81.65</td>\n      <td>29.05</td>\n      <td>No</td>\n      <td>4.0</td>\n      <td>30.0</td>\n      <td>8.0</td>\n      <td>0.0</td>\n    </tr>\n    <tr>\n      <th>308850</th>\n      <td>Fair</td>\n      <td>Within the past 5 years</td>\n      <td>Yes</td>\n      <td>No</td>\n      <td>No</td>\n      <td>No</td>\n      <td>No</td>\n      <td>Yes</td>\n      <td>No</td>\n      <td>Male</td>\n      <td>65-69</td>\n      <td>180.0</td>\n      <td>69.85</td>\n      <td>21.48</td>\n      <td>No</td>\n      <td>8.0</td>\n      <td>15.0</td>\n      <td>60.0</td>\n      <td>4.0</td>\n    </tr>\n    <tr>\n      <th>308851</th>\n      <td>Very Good</td>\n      <td>5 or more years ago</td>\n      <td>Yes</td>\n      <td>No</td>\n      <td>No</td>\n      <td>No</td>\n      <td>Yes</td>\n      <td>Yes, but female told only during pregnancy</td>\n      <td>No</td>\n      <td>Female</td>\n      <td>30-34</td>\n      <td>157.0</td>\n      <td>61.23</td>\n      <td>24.69</td>\n      <td>Yes</td>\n      <td>4.0</td>\n      <td>40.0</td>\n      <td>8.0</td>\n      <td>4.0</td>\n    </tr>\n    <tr>\n      <th>308852</th>\n      <td>Very Good</td>\n      <td>Within the past year</td>\n      <td>Yes</td>\n      <td>No</td>\n      <td>No</td>\n      <td>No</td>\n      <td>No</td>\n      <td>No</td>\n      <td>No</td>\n      <td>Male</td>\n      <td>65-69</td>\n      <td>183.0</td>\n      <td>79.38</td>\n      <td>23.73</td>\n      <td>No</td>\n      <td>3.0</td>\n      <td>30.0</td>\n      <td>12.0</td>\n      <td>0.0</td>\n    </tr>\n    <tr>\n      <th>308853</th>\n      <td>Excellent</td>\n      <td>Within the past year</td>\n      <td>Yes</td>\n      <td>No</td>\n      <td>No</td>\n      <td>No</td>\n      <td>No</td>\n      <td>No</td>\n      <td>No</td>\n      <td>Female</td>\n      <td>45-49</td>\n      <td>160.0</td>\n      <td>81.19</td>\n      <td>31.71</td>\n      <td>No</td>\n      <td>1.0</td>\n      <td>5.0</td>\n      <td>12.0</td>\n      <td>1.0</td>\n    </tr>\n  </tbody>\n</table>\n<p>308774 rows × 19 columns</p>\n</div>"
     },
     "execution_count": 5,
     "metadata": {},
     "output_type": "execute_result"
    }
   ]
  },
  {
   "cell_type": "code",
   "source": [
    "df.isnull().sum()"
   ],
   "metadata": {
    "execution": {
     "iopub.status.busy": "2023-07-03T20:45:59.563263Z",
     "iopub.execute_input": "2023-07-03T20:45:59.563596Z",
     "iopub.status.idle": "2023-07-03T20:46:00.54951Z",
     "shell.execute_reply.started": "2023-07-03T20:45:59.563565Z",
     "shell.execute_reply": "2023-07-03T20:46:00.54861Z"
    },
    "trusted": true,
    "ExecuteTime": {
     "end_time": "2023-08-03T19:14:16.086237700Z",
     "start_time": "2023-08-03T19:14:15.954191Z"
    }
   },
   "execution_count": 6,
   "outputs": [
    {
     "data": {
      "text/plain": "General_Health                  0\nCheckup                         0\nExercise                        0\nHeart_Disease                   0\nSkin_Cancer                     0\nOther_Cancer                    0\nDepression                      0\nDiabetes                        0\nArthritis                       0\nSex                             0\nAge_Category                    0\nHeight_(cm)                     0\nWeight_(kg)                     0\nBMI                             0\nSmoking_History                 0\nAlcohol_Consumption             0\nFruit_Consumption               0\nGreen_Vegetables_Consumption    0\nFriedPotato_Consumption         0\ndtype: int64"
     },
     "execution_count": 6,
     "metadata": {},
     "output_type": "execute_result"
    }
   ]
  },
  {
   "cell_type": "code",
   "source": [
    "for i in df.columns:\n",
    "  dis = len(df[i].unique())\n",
    "  print(f\"{i} - {dis}\")"
   ],
   "metadata": {
    "execution": {
     "iopub.status.busy": "2023-07-03T20:46:00.551041Z",
     "iopub.execute_input": "2023-07-03T20:46:00.551579Z",
     "iopub.status.idle": "2023-07-03T20:46:00.854357Z",
     "shell.execute_reply.started": "2023-07-03T20:46:00.551546Z",
     "shell.execute_reply": "2023-07-03T20:46:00.853347Z"
    },
    "trusted": true,
    "ExecuteTime": {
     "end_time": "2023-08-03T19:14:16.233615900Z",
     "start_time": "2023-08-03T19:14:16.060149200Z"
    }
   },
   "execution_count": 7,
   "outputs": [
    {
     "name": "stdout",
     "output_type": "stream",
     "text": [
      "General_Health - 5\n",
      "Checkup - 5\n",
      "Exercise - 2\n",
      "Heart_Disease - 2\n",
      "Skin_Cancer - 2\n",
      "Other_Cancer - 2\n",
      "Depression - 2\n",
      "Diabetes - 4\n",
      "Arthritis - 2\n",
      "Sex - 2\n",
      "Age_Category - 13\n",
      "Height_(cm) - 99\n",
      "Weight_(kg) - 525\n",
      "BMI - 3654\n",
      "Smoking_History - 2\n",
      "Alcohol_Consumption - 31\n",
      "Fruit_Consumption - 77\n",
      "Green_Vegetables_Consumption - 75\n",
      "FriedPotato_Consumption - 69\n"
     ]
    }
   ]
  },
  {
   "cell_type": "code",
   "source": [
    "df['Checkup'].value_counts()"
   ],
   "metadata": {
    "execution": {
     "iopub.status.busy": "2023-07-03T20:46:00.855765Z",
     "iopub.execute_input": "2023-07-03T20:46:00.856189Z",
     "iopub.status.idle": "2023-07-03T20:46:00.906937Z",
     "shell.execute_reply.started": "2023-07-03T20:46:00.856157Z",
     "shell.execute_reply": "2023-07-03T20:46:00.906034Z"
    },
    "trusted": true,
    "ExecuteTime": {
     "end_time": "2023-08-03T19:14:16.308109500Z",
     "start_time": "2023-08-03T19:14:16.234614200Z"
    }
   },
   "execution_count": 8,
   "outputs": [
    {
     "data": {
      "text/plain": "Checkup\nWithin the past year       239371\nWithin the past 2 years     37213\nWithin the past 5 years     17442\n5 or more years ago         13421\nNever                        1407\nName: count, dtype: int64"
     },
     "execution_count": 8,
     "metadata": {},
     "output_type": "execute_result"
    }
   ]
  },
  {
   "cell_type": "code",
   "source": [
    "df['Diabetes'].value_counts()"
   ],
   "metadata": {
    "execution": {
     "iopub.status.busy": "2023-07-03T20:46:00.911136Z",
     "iopub.execute_input": "2023-07-03T20:46:00.911898Z",
     "iopub.status.idle": "2023-07-03T20:46:00.962602Z",
     "shell.execute_reply.started": "2023-07-03T20:46:00.911868Z",
     "shell.execute_reply": "2023-07-03T20:46:00.961677Z"
    },
    "trusted": true,
    "ExecuteTime": {
     "end_time": "2023-08-03T19:14:16.309078200Z",
     "start_time": "2023-08-03T19:14:16.266194900Z"
    }
   },
   "execution_count": 9,
   "outputs": [
    {
     "data": {
      "text/plain": "Diabetes\nNo                                            259141\nYes                                            40171\nNo, pre-diabetes or borderline diabetes         6896\nYes, but female told only during pregnancy      2646\nName: count, dtype: int64"
     },
     "execution_count": 9,
     "metadata": {},
     "output_type": "execute_result"
    }
   ]
  },
  {
   "cell_type": "code",
   "source": [
    "\n",
    "from sklearn.preprocessing import OrdinalEncoder"
   ],
   "metadata": {
    "execution": {
     "iopub.status.busy": "2023-07-03T20:46:00.963967Z",
     "iopub.execute_input": "2023-07-03T20:46:00.964297Z",
     "iopub.status.idle": "2023-07-03T20:46:00.96835Z",
     "shell.execute_reply.started": "2023-07-03T20:46:00.964268Z",
     "shell.execute_reply": "2023-07-03T20:46:00.967356Z"
    },
    "trusted": true,
    "ExecuteTime": {
     "end_time": "2023-08-03T19:14:16.484686900Z",
     "start_time": "2023-08-03T19:14:16.296024Z"
    }
   },
   "execution_count": 10,
   "outputs": []
  },
  {
   "cell_type": "code",
   "source": [
    "enc = OrdinalEncoder()\n",
    "df['Exercise'] = enc.fit_transform(df[['Exercise']])\n",
    "df['Heart_Disease'] = enc.fit_transform(df[['Heart_Disease']])\n",
    "df['Skin_Cancer'] = enc.fit_transform(df[['Skin_Cancer']])\n",
    "df['Other_Cancer'] = enc.fit_transform(df[['Other_Cancer']])\n",
    "df['Depression'] = enc.fit_transform(df[['Depression']])\n",
    "df['Sex'] = enc.fit_transform(df[['Sex']])\n",
    "df['Arthritis'] = enc.fit_transform(df[['Arthritis']])\n",
    "df['Smoking_History'] = enc.fit_transform(df[['Smoking_History']])\n",
    "df.head(10)"
   ],
   "metadata": {
    "execution": {
     "iopub.status.busy": "2023-07-03T20:46:00.969694Z",
     "iopub.execute_input": "2023-07-03T20:46:00.970842Z",
     "iopub.status.idle": "2023-07-03T20:46:02.117924Z",
     "shell.execute_reply.started": "2023-07-03T20:46:00.970794Z",
     "shell.execute_reply": "2023-07-03T20:46:02.116812Z"
    },
    "trusted": true,
    "ExecuteTime": {
     "end_time": "2023-08-03T19:14:16.970471600Z",
     "start_time": "2023-08-03T19:14:16.488195500Z"
    }
   },
   "execution_count": 11,
   "outputs": [
    {
     "data": {
      "text/plain": "  General_Health                  Checkup  Exercise  Heart_Disease  \\\n0           Poor  Within the past 2 years       0.0            0.0   \n1      Very Good     Within the past year       0.0            1.0   \n2      Very Good     Within the past year       1.0            0.0   \n3           Poor     Within the past year       1.0            1.0   \n4           Good     Within the past year       0.0            0.0   \n5           Good     Within the past year       0.0            0.0   \n6           Fair     Within the past year       1.0            1.0   \n7           Good     Within the past year       1.0            0.0   \n8           Fair     Within the past year       0.0            0.0   \n9           Fair     Within the past year       0.0            0.0   \n\n   Skin_Cancer  Other_Cancer  Depression Diabetes  Arthritis  Sex  \\\n0          0.0           0.0         0.0       No        1.0  0.0   \n1          0.0           0.0         0.0      Yes        0.0  0.0   \n2          0.0           0.0         0.0      Yes        0.0  0.0   \n3          0.0           0.0         0.0      Yes        0.0  1.0   \n4          0.0           0.0         0.0       No        0.0  1.0   \n5          0.0           0.0         1.0       No        1.0  1.0   \n6          0.0           0.0         0.0       No        1.0  1.0   \n7          0.0           0.0         0.0       No        1.0  0.0   \n8          0.0           0.0         1.0       No        0.0  0.0   \n9          0.0           0.0         0.0      Yes        1.0  0.0   \n\n  Age_Category  Height_(cm)  Weight_(kg)    BMI  Smoking_History  \\\n0        70-74        150.0        32.66  14.54              1.0   \n1        70-74        165.0        77.11  28.29              0.0   \n2        60-64        163.0        88.45  33.47              0.0   \n3        75-79        180.0        93.44  28.73              0.0   \n4          80+        191.0        88.45  24.37              1.0   \n5        60-64        183.0       154.22  46.11              0.0   \n6        60-64        175.0        69.85  22.74              1.0   \n7        65-69        165.0       108.86  39.94              1.0   \n8        65-69        163.0        72.57  27.46              1.0   \n9        70-74        163.0        91.63  34.67              0.0   \n\n   Alcohol_Consumption  Fruit_Consumption  Green_Vegetables_Consumption  \\\n0                  0.0               30.0                          16.0   \n1                  0.0               30.0                           0.0   \n2                  4.0               12.0                           3.0   \n3                  0.0               30.0                          30.0   \n4                  0.0                8.0                           4.0   \n5                  0.0               12.0                          12.0   \n6                  0.0               16.0                           8.0   \n7                  3.0               30.0                           8.0   \n8                  0.0               12.0                          12.0   \n9                  0.0               12.0                          12.0   \n\n   FriedPotato_Consumption  \n0                     12.0  \n1                      4.0  \n2                     16.0  \n3                      8.0  \n4                      0.0  \n5                     12.0  \n6                      0.0  \n7                      8.0  \n8                      4.0  \n9                      1.0  ",
      "text/html": "<div>\n<style scoped>\n    .dataframe tbody tr th:only-of-type {\n        vertical-align: middle;\n    }\n\n    .dataframe tbody tr th {\n        vertical-align: top;\n    }\n\n    .dataframe thead th {\n        text-align: right;\n    }\n</style>\n<table border=\"1\" class=\"dataframe\">\n  <thead>\n    <tr style=\"text-align: right;\">\n      <th></th>\n      <th>General_Health</th>\n      <th>Checkup</th>\n      <th>Exercise</th>\n      <th>Heart_Disease</th>\n      <th>Skin_Cancer</th>\n      <th>Other_Cancer</th>\n      <th>Depression</th>\n      <th>Diabetes</th>\n      <th>Arthritis</th>\n      <th>Sex</th>\n      <th>Age_Category</th>\n      <th>Height_(cm)</th>\n      <th>Weight_(kg)</th>\n      <th>BMI</th>\n      <th>Smoking_History</th>\n      <th>Alcohol_Consumption</th>\n      <th>Fruit_Consumption</th>\n      <th>Green_Vegetables_Consumption</th>\n      <th>FriedPotato_Consumption</th>\n    </tr>\n  </thead>\n  <tbody>\n    <tr>\n      <th>0</th>\n      <td>Poor</td>\n      <td>Within the past 2 years</td>\n      <td>0.0</td>\n      <td>0.0</td>\n      <td>0.0</td>\n      <td>0.0</td>\n      <td>0.0</td>\n      <td>No</td>\n      <td>1.0</td>\n      <td>0.0</td>\n      <td>70-74</td>\n      <td>150.0</td>\n      <td>32.66</td>\n      <td>14.54</td>\n      <td>1.0</td>\n      <td>0.0</td>\n      <td>30.0</td>\n      <td>16.0</td>\n      <td>12.0</td>\n    </tr>\n    <tr>\n      <th>1</th>\n      <td>Very Good</td>\n      <td>Within the past year</td>\n      <td>0.0</td>\n      <td>1.0</td>\n      <td>0.0</td>\n      <td>0.0</td>\n      <td>0.0</td>\n      <td>Yes</td>\n      <td>0.0</td>\n      <td>0.0</td>\n      <td>70-74</td>\n      <td>165.0</td>\n      <td>77.11</td>\n      <td>28.29</td>\n      <td>0.0</td>\n      <td>0.0</td>\n      <td>30.0</td>\n      <td>0.0</td>\n      <td>4.0</td>\n    </tr>\n    <tr>\n      <th>2</th>\n      <td>Very Good</td>\n      <td>Within the past year</td>\n      <td>1.0</td>\n      <td>0.0</td>\n      <td>0.0</td>\n      <td>0.0</td>\n      <td>0.0</td>\n      <td>Yes</td>\n      <td>0.0</td>\n      <td>0.0</td>\n      <td>60-64</td>\n      <td>163.0</td>\n      <td>88.45</td>\n      <td>33.47</td>\n      <td>0.0</td>\n      <td>4.0</td>\n      <td>12.0</td>\n      <td>3.0</td>\n      <td>16.0</td>\n    </tr>\n    <tr>\n      <th>3</th>\n      <td>Poor</td>\n      <td>Within the past year</td>\n      <td>1.0</td>\n      <td>1.0</td>\n      <td>0.0</td>\n      <td>0.0</td>\n      <td>0.0</td>\n      <td>Yes</td>\n      <td>0.0</td>\n      <td>1.0</td>\n      <td>75-79</td>\n      <td>180.0</td>\n      <td>93.44</td>\n      <td>28.73</td>\n      <td>0.0</td>\n      <td>0.0</td>\n      <td>30.0</td>\n      <td>30.0</td>\n      <td>8.0</td>\n    </tr>\n    <tr>\n      <th>4</th>\n      <td>Good</td>\n      <td>Within the past year</td>\n      <td>0.0</td>\n      <td>0.0</td>\n      <td>0.0</td>\n      <td>0.0</td>\n      <td>0.0</td>\n      <td>No</td>\n      <td>0.0</td>\n      <td>1.0</td>\n      <td>80+</td>\n      <td>191.0</td>\n      <td>88.45</td>\n      <td>24.37</td>\n      <td>1.0</td>\n      <td>0.0</td>\n      <td>8.0</td>\n      <td>4.0</td>\n      <td>0.0</td>\n    </tr>\n    <tr>\n      <th>5</th>\n      <td>Good</td>\n      <td>Within the past year</td>\n      <td>0.0</td>\n      <td>0.0</td>\n      <td>0.0</td>\n      <td>0.0</td>\n      <td>1.0</td>\n      <td>No</td>\n      <td>1.0</td>\n      <td>1.0</td>\n      <td>60-64</td>\n      <td>183.0</td>\n      <td>154.22</td>\n      <td>46.11</td>\n      <td>0.0</td>\n      <td>0.0</td>\n      <td>12.0</td>\n      <td>12.0</td>\n      <td>12.0</td>\n    </tr>\n    <tr>\n      <th>6</th>\n      <td>Fair</td>\n      <td>Within the past year</td>\n      <td>1.0</td>\n      <td>1.0</td>\n      <td>0.0</td>\n      <td>0.0</td>\n      <td>0.0</td>\n      <td>No</td>\n      <td>1.0</td>\n      <td>1.0</td>\n      <td>60-64</td>\n      <td>175.0</td>\n      <td>69.85</td>\n      <td>22.74</td>\n      <td>1.0</td>\n      <td>0.0</td>\n      <td>16.0</td>\n      <td>8.0</td>\n      <td>0.0</td>\n    </tr>\n    <tr>\n      <th>7</th>\n      <td>Good</td>\n      <td>Within the past year</td>\n      <td>1.0</td>\n      <td>0.0</td>\n      <td>0.0</td>\n      <td>0.0</td>\n      <td>0.0</td>\n      <td>No</td>\n      <td>1.0</td>\n      <td>0.0</td>\n      <td>65-69</td>\n      <td>165.0</td>\n      <td>108.86</td>\n      <td>39.94</td>\n      <td>1.0</td>\n      <td>3.0</td>\n      <td>30.0</td>\n      <td>8.0</td>\n      <td>8.0</td>\n    </tr>\n    <tr>\n      <th>8</th>\n      <td>Fair</td>\n      <td>Within the past year</td>\n      <td>0.0</td>\n      <td>0.0</td>\n      <td>0.0</td>\n      <td>0.0</td>\n      <td>1.0</td>\n      <td>No</td>\n      <td>0.0</td>\n      <td>0.0</td>\n      <td>65-69</td>\n      <td>163.0</td>\n      <td>72.57</td>\n      <td>27.46</td>\n      <td>1.0</td>\n      <td>0.0</td>\n      <td>12.0</td>\n      <td>12.0</td>\n      <td>4.0</td>\n    </tr>\n    <tr>\n      <th>9</th>\n      <td>Fair</td>\n      <td>Within the past year</td>\n      <td>0.0</td>\n      <td>0.0</td>\n      <td>0.0</td>\n      <td>0.0</td>\n      <td>0.0</td>\n      <td>Yes</td>\n      <td>1.0</td>\n      <td>0.0</td>\n      <td>70-74</td>\n      <td>163.0</td>\n      <td>91.63</td>\n      <td>34.67</td>\n      <td>0.0</td>\n      <td>0.0</td>\n      <td>12.0</td>\n      <td>12.0</td>\n      <td>1.0</td>\n    </tr>\n  </tbody>\n</table>\n</div>"
     },
     "execution_count": 11,
     "metadata": {},
     "output_type": "execute_result"
    }
   ]
  },
  {
   "cell_type": "markdown",
   "source": [
    "## Vanilla Curriculum Learning is mostly used when a data set has clearly defined labels of difficulty\n",
    "beforehand. This strategy only has an influence on the data level of the model, structuring it in an\n",
    "ascending manner, based on this label of difficulty. An example of this is Bengio et al. [7], where\n",
    "6\n",
    "they used this approach in their geometric shapes qualifier to split the data into two sets, one\n",
    "containing easier and clearer images of ’perfect’ shapes, and the other containing more convoluted\n",
    "shapes and sizes. And using the easy dataset to gain an advantage on the accuracy of the model\n",
    "when tested on the second set."
   ],
   "metadata": {
    "collapsed": false
   }
  },
  {
   "cell_type": "code",
   "source": [
    "rank=['Poor','Fair','Good','Very Good','Excellent']\n",
    "oe = OrdinalEncoder(categories=[rank])\n",
    "df['General_Health']=oe.fit_transform(df[['General_Health']])\n",
    "df.head()"
   ],
   "metadata": {
    "execution": {
     "iopub.status.busy": "2023-07-03T20:46:02.119946Z",
     "iopub.execute_input": "2023-07-03T20:46:02.120673Z",
     "iopub.status.idle": "2023-07-03T20:46:02.288699Z",
     "shell.execute_reply.started": "2023-07-03T20:46:02.120631Z",
     "shell.execute_reply": "2023-07-03T20:46:02.287825Z"
    },
    "trusted": true,
    "ExecuteTime": {
     "end_time": "2023-08-03T19:14:17.089012600Z",
     "start_time": "2023-08-03T19:14:16.976027200Z"
    }
   },
   "execution_count": 12,
   "outputs": [
    {
     "data": {
      "text/plain": "   General_Health                  Checkup  Exercise  Heart_Disease  \\\n0             0.0  Within the past 2 years       0.0            0.0   \n1             3.0     Within the past year       0.0            1.0   \n2             3.0     Within the past year       1.0            0.0   \n3             0.0     Within the past year       1.0            1.0   \n4             2.0     Within the past year       0.0            0.0   \n\n   Skin_Cancer  Other_Cancer  Depression Diabetes  Arthritis  Sex  \\\n0          0.0           0.0         0.0       No        1.0  0.0   \n1          0.0           0.0         0.0      Yes        0.0  0.0   \n2          0.0           0.0         0.0      Yes        0.0  0.0   \n3          0.0           0.0         0.0      Yes        0.0  1.0   \n4          0.0           0.0         0.0       No        0.0  1.0   \n\n  Age_Category  Height_(cm)  Weight_(kg)    BMI  Smoking_History  \\\n0        70-74        150.0        32.66  14.54              1.0   \n1        70-74        165.0        77.11  28.29              0.0   \n2        60-64        163.0        88.45  33.47              0.0   \n3        75-79        180.0        93.44  28.73              0.0   \n4          80+        191.0        88.45  24.37              1.0   \n\n   Alcohol_Consumption  Fruit_Consumption  Green_Vegetables_Consumption  \\\n0                  0.0               30.0                          16.0   \n1                  0.0               30.0                           0.0   \n2                  4.0               12.0                           3.0   \n3                  0.0               30.0                          30.0   \n4                  0.0                8.0                           4.0   \n\n   FriedPotato_Consumption  \n0                     12.0  \n1                      4.0  \n2                     16.0  \n3                      8.0  \n4                      0.0  ",
      "text/html": "<div>\n<style scoped>\n    .dataframe tbody tr th:only-of-type {\n        vertical-align: middle;\n    }\n\n    .dataframe tbody tr th {\n        vertical-align: top;\n    }\n\n    .dataframe thead th {\n        text-align: right;\n    }\n</style>\n<table border=\"1\" class=\"dataframe\">\n  <thead>\n    <tr style=\"text-align: right;\">\n      <th></th>\n      <th>General_Health</th>\n      <th>Checkup</th>\n      <th>Exercise</th>\n      <th>Heart_Disease</th>\n      <th>Skin_Cancer</th>\n      <th>Other_Cancer</th>\n      <th>Depression</th>\n      <th>Diabetes</th>\n      <th>Arthritis</th>\n      <th>Sex</th>\n      <th>Age_Category</th>\n      <th>Height_(cm)</th>\n      <th>Weight_(kg)</th>\n      <th>BMI</th>\n      <th>Smoking_History</th>\n      <th>Alcohol_Consumption</th>\n      <th>Fruit_Consumption</th>\n      <th>Green_Vegetables_Consumption</th>\n      <th>FriedPotato_Consumption</th>\n    </tr>\n  </thead>\n  <tbody>\n    <tr>\n      <th>0</th>\n      <td>0.0</td>\n      <td>Within the past 2 years</td>\n      <td>0.0</td>\n      <td>0.0</td>\n      <td>0.0</td>\n      <td>0.0</td>\n      <td>0.0</td>\n      <td>No</td>\n      <td>1.0</td>\n      <td>0.0</td>\n      <td>70-74</td>\n      <td>150.0</td>\n      <td>32.66</td>\n      <td>14.54</td>\n      <td>1.0</td>\n      <td>0.0</td>\n      <td>30.0</td>\n      <td>16.0</td>\n      <td>12.0</td>\n    </tr>\n    <tr>\n      <th>1</th>\n      <td>3.0</td>\n      <td>Within the past year</td>\n      <td>0.0</td>\n      <td>1.0</td>\n      <td>0.0</td>\n      <td>0.0</td>\n      <td>0.0</td>\n      <td>Yes</td>\n      <td>0.0</td>\n      <td>0.0</td>\n      <td>70-74</td>\n      <td>165.0</td>\n      <td>77.11</td>\n      <td>28.29</td>\n      <td>0.0</td>\n      <td>0.0</td>\n      <td>30.0</td>\n      <td>0.0</td>\n      <td>4.0</td>\n    </tr>\n    <tr>\n      <th>2</th>\n      <td>3.0</td>\n      <td>Within the past year</td>\n      <td>1.0</td>\n      <td>0.0</td>\n      <td>0.0</td>\n      <td>0.0</td>\n      <td>0.0</td>\n      <td>Yes</td>\n      <td>0.0</td>\n      <td>0.0</td>\n      <td>60-64</td>\n      <td>163.0</td>\n      <td>88.45</td>\n      <td>33.47</td>\n      <td>0.0</td>\n      <td>4.0</td>\n      <td>12.0</td>\n      <td>3.0</td>\n      <td>16.0</td>\n    </tr>\n    <tr>\n      <th>3</th>\n      <td>0.0</td>\n      <td>Within the past year</td>\n      <td>1.0</td>\n      <td>1.0</td>\n      <td>0.0</td>\n      <td>0.0</td>\n      <td>0.0</td>\n      <td>Yes</td>\n      <td>0.0</td>\n      <td>1.0</td>\n      <td>75-79</td>\n      <td>180.0</td>\n      <td>93.44</td>\n      <td>28.73</td>\n      <td>0.0</td>\n      <td>0.0</td>\n      <td>30.0</td>\n      <td>30.0</td>\n      <td>8.0</td>\n    </tr>\n    <tr>\n      <th>4</th>\n      <td>2.0</td>\n      <td>Within the past year</td>\n      <td>0.0</td>\n      <td>0.0</td>\n      <td>0.0</td>\n      <td>0.0</td>\n      <td>0.0</td>\n      <td>No</td>\n      <td>0.0</td>\n      <td>1.0</td>\n      <td>80+</td>\n      <td>191.0</td>\n      <td>88.45</td>\n      <td>24.37</td>\n      <td>1.0</td>\n      <td>0.0</td>\n      <td>8.0</td>\n      <td>4.0</td>\n      <td>0.0</td>\n    </tr>\n  </tbody>\n</table>\n</div>"
     },
     "execution_count": 12,
     "metadata": {},
     "output_type": "execute_result"
    }
   ]
  },
  {
   "cell_type": "code",
   "source": [
    "df.head(10)"
   ],
   "metadata": {
    "execution": {
     "iopub.status.busy": "2023-07-03T20:46:02.290271Z",
     "iopub.execute_input": "2023-07-03T20:46:02.290696Z",
     "iopub.status.idle": "2023-07-03T20:46:02.327691Z",
     "shell.execute_reply.started": "2023-07-03T20:46:02.290656Z",
     "shell.execute_reply": "2023-07-03T20:46:02.326778Z"
    },
    "trusted": true,
    "ExecuteTime": {
     "end_time": "2023-08-03T19:14:17.095011200Z",
     "start_time": "2023-08-03T19:14:17.064661400Z"
    }
   },
   "execution_count": 13,
   "outputs": [
    {
     "data": {
      "text/plain": "   General_Health                  Checkup  Exercise  Heart_Disease  \\\n0             0.0  Within the past 2 years       0.0            0.0   \n1             3.0     Within the past year       0.0            1.0   \n2             3.0     Within the past year       1.0            0.0   \n3             0.0     Within the past year       1.0            1.0   \n4             2.0     Within the past year       0.0            0.0   \n5             2.0     Within the past year       0.0            0.0   \n6             1.0     Within the past year       1.0            1.0   \n7             2.0     Within the past year       1.0            0.0   \n8             1.0     Within the past year       0.0            0.0   \n9             1.0     Within the past year       0.0            0.0   \n\n   Skin_Cancer  Other_Cancer  Depression Diabetes  Arthritis  Sex  \\\n0          0.0           0.0         0.0       No        1.0  0.0   \n1          0.0           0.0         0.0      Yes        0.0  0.0   \n2          0.0           0.0         0.0      Yes        0.0  0.0   \n3          0.0           0.0         0.0      Yes        0.0  1.0   \n4          0.0           0.0         0.0       No        0.0  1.0   \n5          0.0           0.0         1.0       No        1.0  1.0   \n6          0.0           0.0         0.0       No        1.0  1.0   \n7          0.0           0.0         0.0       No        1.0  0.0   \n8          0.0           0.0         1.0       No        0.0  0.0   \n9          0.0           0.0         0.0      Yes        1.0  0.0   \n\n  Age_Category  Height_(cm)  Weight_(kg)    BMI  Smoking_History  \\\n0        70-74        150.0        32.66  14.54              1.0   \n1        70-74        165.0        77.11  28.29              0.0   \n2        60-64        163.0        88.45  33.47              0.0   \n3        75-79        180.0        93.44  28.73              0.0   \n4          80+        191.0        88.45  24.37              1.0   \n5        60-64        183.0       154.22  46.11              0.0   \n6        60-64        175.0        69.85  22.74              1.0   \n7        65-69        165.0       108.86  39.94              1.0   \n8        65-69        163.0        72.57  27.46              1.0   \n9        70-74        163.0        91.63  34.67              0.0   \n\n   Alcohol_Consumption  Fruit_Consumption  Green_Vegetables_Consumption  \\\n0                  0.0               30.0                          16.0   \n1                  0.0               30.0                           0.0   \n2                  4.0               12.0                           3.0   \n3                  0.0               30.0                          30.0   \n4                  0.0                8.0                           4.0   \n5                  0.0               12.0                          12.0   \n6                  0.0               16.0                           8.0   \n7                  3.0               30.0                           8.0   \n8                  0.0               12.0                          12.0   \n9                  0.0               12.0                          12.0   \n\n   FriedPotato_Consumption  \n0                     12.0  \n1                      4.0  \n2                     16.0  \n3                      8.0  \n4                      0.0  \n5                     12.0  \n6                      0.0  \n7                      8.0  \n8                      4.0  \n9                      1.0  ",
      "text/html": "<div>\n<style scoped>\n    .dataframe tbody tr th:only-of-type {\n        vertical-align: middle;\n    }\n\n    .dataframe tbody tr th {\n        vertical-align: top;\n    }\n\n    .dataframe thead th {\n        text-align: right;\n    }\n</style>\n<table border=\"1\" class=\"dataframe\">\n  <thead>\n    <tr style=\"text-align: right;\">\n      <th></th>\n      <th>General_Health</th>\n      <th>Checkup</th>\n      <th>Exercise</th>\n      <th>Heart_Disease</th>\n      <th>Skin_Cancer</th>\n      <th>Other_Cancer</th>\n      <th>Depression</th>\n      <th>Diabetes</th>\n      <th>Arthritis</th>\n      <th>Sex</th>\n      <th>Age_Category</th>\n      <th>Height_(cm)</th>\n      <th>Weight_(kg)</th>\n      <th>BMI</th>\n      <th>Smoking_History</th>\n      <th>Alcohol_Consumption</th>\n      <th>Fruit_Consumption</th>\n      <th>Green_Vegetables_Consumption</th>\n      <th>FriedPotato_Consumption</th>\n    </tr>\n  </thead>\n  <tbody>\n    <tr>\n      <th>0</th>\n      <td>0.0</td>\n      <td>Within the past 2 years</td>\n      <td>0.0</td>\n      <td>0.0</td>\n      <td>0.0</td>\n      <td>0.0</td>\n      <td>0.0</td>\n      <td>No</td>\n      <td>1.0</td>\n      <td>0.0</td>\n      <td>70-74</td>\n      <td>150.0</td>\n      <td>32.66</td>\n      <td>14.54</td>\n      <td>1.0</td>\n      <td>0.0</td>\n      <td>30.0</td>\n      <td>16.0</td>\n      <td>12.0</td>\n    </tr>\n    <tr>\n      <th>1</th>\n      <td>3.0</td>\n      <td>Within the past year</td>\n      <td>0.0</td>\n      <td>1.0</td>\n      <td>0.0</td>\n      <td>0.0</td>\n      <td>0.0</td>\n      <td>Yes</td>\n      <td>0.0</td>\n      <td>0.0</td>\n      <td>70-74</td>\n      <td>165.0</td>\n      <td>77.11</td>\n      <td>28.29</td>\n      <td>0.0</td>\n      <td>0.0</td>\n      <td>30.0</td>\n      <td>0.0</td>\n      <td>4.0</td>\n    </tr>\n    <tr>\n      <th>2</th>\n      <td>3.0</td>\n      <td>Within the past year</td>\n      <td>1.0</td>\n      <td>0.0</td>\n      <td>0.0</td>\n      <td>0.0</td>\n      <td>0.0</td>\n      <td>Yes</td>\n      <td>0.0</td>\n      <td>0.0</td>\n      <td>60-64</td>\n      <td>163.0</td>\n      <td>88.45</td>\n      <td>33.47</td>\n      <td>0.0</td>\n      <td>4.0</td>\n      <td>12.0</td>\n      <td>3.0</td>\n      <td>16.0</td>\n    </tr>\n    <tr>\n      <th>3</th>\n      <td>0.0</td>\n      <td>Within the past year</td>\n      <td>1.0</td>\n      <td>1.0</td>\n      <td>0.0</td>\n      <td>0.0</td>\n      <td>0.0</td>\n      <td>Yes</td>\n      <td>0.0</td>\n      <td>1.0</td>\n      <td>75-79</td>\n      <td>180.0</td>\n      <td>93.44</td>\n      <td>28.73</td>\n      <td>0.0</td>\n      <td>0.0</td>\n      <td>30.0</td>\n      <td>30.0</td>\n      <td>8.0</td>\n    </tr>\n    <tr>\n      <th>4</th>\n      <td>2.0</td>\n      <td>Within the past year</td>\n      <td>0.0</td>\n      <td>0.0</td>\n      <td>0.0</td>\n      <td>0.0</td>\n      <td>0.0</td>\n      <td>No</td>\n      <td>0.0</td>\n      <td>1.0</td>\n      <td>80+</td>\n      <td>191.0</td>\n      <td>88.45</td>\n      <td>24.37</td>\n      <td>1.0</td>\n      <td>0.0</td>\n      <td>8.0</td>\n      <td>4.0</td>\n      <td>0.0</td>\n    </tr>\n    <tr>\n      <th>5</th>\n      <td>2.0</td>\n      <td>Within the past year</td>\n      <td>0.0</td>\n      <td>0.0</td>\n      <td>0.0</td>\n      <td>0.0</td>\n      <td>1.0</td>\n      <td>No</td>\n      <td>1.0</td>\n      <td>1.0</td>\n      <td>60-64</td>\n      <td>183.0</td>\n      <td>154.22</td>\n      <td>46.11</td>\n      <td>0.0</td>\n      <td>0.0</td>\n      <td>12.0</td>\n      <td>12.0</td>\n      <td>12.0</td>\n    </tr>\n    <tr>\n      <th>6</th>\n      <td>1.0</td>\n      <td>Within the past year</td>\n      <td>1.0</td>\n      <td>1.0</td>\n      <td>0.0</td>\n      <td>0.0</td>\n      <td>0.0</td>\n      <td>No</td>\n      <td>1.0</td>\n      <td>1.0</td>\n      <td>60-64</td>\n      <td>175.0</td>\n      <td>69.85</td>\n      <td>22.74</td>\n      <td>1.0</td>\n      <td>0.0</td>\n      <td>16.0</td>\n      <td>8.0</td>\n      <td>0.0</td>\n    </tr>\n    <tr>\n      <th>7</th>\n      <td>2.0</td>\n      <td>Within the past year</td>\n      <td>1.0</td>\n      <td>0.0</td>\n      <td>0.0</td>\n      <td>0.0</td>\n      <td>0.0</td>\n      <td>No</td>\n      <td>1.0</td>\n      <td>0.0</td>\n      <td>65-69</td>\n      <td>165.0</td>\n      <td>108.86</td>\n      <td>39.94</td>\n      <td>1.0</td>\n      <td>3.0</td>\n      <td>30.0</td>\n      <td>8.0</td>\n      <td>8.0</td>\n    </tr>\n    <tr>\n      <th>8</th>\n      <td>1.0</td>\n      <td>Within the past year</td>\n      <td>0.0</td>\n      <td>0.0</td>\n      <td>0.0</td>\n      <td>0.0</td>\n      <td>1.0</td>\n      <td>No</td>\n      <td>0.0</td>\n      <td>0.0</td>\n      <td>65-69</td>\n      <td>163.0</td>\n      <td>72.57</td>\n      <td>27.46</td>\n      <td>1.0</td>\n      <td>0.0</td>\n      <td>12.0</td>\n      <td>12.0</td>\n      <td>4.0</td>\n    </tr>\n    <tr>\n      <th>9</th>\n      <td>1.0</td>\n      <td>Within the past year</td>\n      <td>0.0</td>\n      <td>0.0</td>\n      <td>0.0</td>\n      <td>0.0</td>\n      <td>0.0</td>\n      <td>Yes</td>\n      <td>1.0</td>\n      <td>0.0</td>\n      <td>70-74</td>\n      <td>163.0</td>\n      <td>91.63</td>\n      <td>34.67</td>\n      <td>0.0</td>\n      <td>0.0</td>\n      <td>12.0</td>\n      <td>12.0</td>\n      <td>1.0</td>\n    </tr>\n  </tbody>\n</table>\n</div>"
     },
     "execution_count": 13,
     "metadata": {},
     "output_type": "execute_result"
    }
   ]
  },
  {
   "cell_type": "code",
   "source": [
    "rank1=['No','No, pre-diabetes or borderline diabetes','Yes, but female told only during pregnancy','Yes']\n",
    "oe1 = OrdinalEncoder(categories=[rank1])\n",
    "df['Diabetes']=oe1.fit_transform(df[['Diabetes']])\n",
    "df.head()"
   ],
   "metadata": {
    "execution": {
     "iopub.status.busy": "2023-07-03T20:46:02.328888Z",
     "iopub.execute_input": "2023-07-03T20:46:02.329418Z",
     "iopub.status.idle": "2023-07-03T20:46:02.498439Z",
     "shell.execute_reply.started": "2023-07-03T20:46:02.329386Z",
     "shell.execute_reply": "2023-07-03T20:46:02.497302Z"
    },
    "trusted": true,
    "ExecuteTime": {
     "end_time": "2023-08-03T19:14:17.302031900Z",
     "start_time": "2023-08-03T19:14:17.096516Z"
    }
   },
   "execution_count": 14,
   "outputs": [
    {
     "data": {
      "text/plain": "   General_Health                  Checkup  Exercise  Heart_Disease  \\\n0             0.0  Within the past 2 years       0.0            0.0   \n1             3.0     Within the past year       0.0            1.0   \n2             3.0     Within the past year       1.0            0.0   \n3             0.0     Within the past year       1.0            1.0   \n4             2.0     Within the past year       0.0            0.0   \n\n   Skin_Cancer  Other_Cancer  Depression  Diabetes  Arthritis  Sex  \\\n0          0.0           0.0         0.0       0.0        1.0  0.0   \n1          0.0           0.0         0.0       3.0        0.0  0.0   \n2          0.0           0.0         0.0       3.0        0.0  0.0   \n3          0.0           0.0         0.0       3.0        0.0  1.0   \n4          0.0           0.0         0.0       0.0        0.0  1.0   \n\n  Age_Category  Height_(cm)  Weight_(kg)    BMI  Smoking_History  \\\n0        70-74        150.0        32.66  14.54              1.0   \n1        70-74        165.0        77.11  28.29              0.0   \n2        60-64        163.0        88.45  33.47              0.0   \n3        75-79        180.0        93.44  28.73              0.0   \n4          80+        191.0        88.45  24.37              1.0   \n\n   Alcohol_Consumption  Fruit_Consumption  Green_Vegetables_Consumption  \\\n0                  0.0               30.0                          16.0   \n1                  0.0               30.0                           0.0   \n2                  4.0               12.0                           3.0   \n3                  0.0               30.0                          30.0   \n4                  0.0                8.0                           4.0   \n\n   FriedPotato_Consumption  \n0                     12.0  \n1                      4.0  \n2                     16.0  \n3                      8.0  \n4                      0.0  ",
      "text/html": "<div>\n<style scoped>\n    .dataframe tbody tr th:only-of-type {\n        vertical-align: middle;\n    }\n\n    .dataframe tbody tr th {\n        vertical-align: top;\n    }\n\n    .dataframe thead th {\n        text-align: right;\n    }\n</style>\n<table border=\"1\" class=\"dataframe\">\n  <thead>\n    <tr style=\"text-align: right;\">\n      <th></th>\n      <th>General_Health</th>\n      <th>Checkup</th>\n      <th>Exercise</th>\n      <th>Heart_Disease</th>\n      <th>Skin_Cancer</th>\n      <th>Other_Cancer</th>\n      <th>Depression</th>\n      <th>Diabetes</th>\n      <th>Arthritis</th>\n      <th>Sex</th>\n      <th>Age_Category</th>\n      <th>Height_(cm)</th>\n      <th>Weight_(kg)</th>\n      <th>BMI</th>\n      <th>Smoking_History</th>\n      <th>Alcohol_Consumption</th>\n      <th>Fruit_Consumption</th>\n      <th>Green_Vegetables_Consumption</th>\n      <th>FriedPotato_Consumption</th>\n    </tr>\n  </thead>\n  <tbody>\n    <tr>\n      <th>0</th>\n      <td>0.0</td>\n      <td>Within the past 2 years</td>\n      <td>0.0</td>\n      <td>0.0</td>\n      <td>0.0</td>\n      <td>0.0</td>\n      <td>0.0</td>\n      <td>0.0</td>\n      <td>1.0</td>\n      <td>0.0</td>\n      <td>70-74</td>\n      <td>150.0</td>\n      <td>32.66</td>\n      <td>14.54</td>\n      <td>1.0</td>\n      <td>0.0</td>\n      <td>30.0</td>\n      <td>16.0</td>\n      <td>12.0</td>\n    </tr>\n    <tr>\n      <th>1</th>\n      <td>3.0</td>\n      <td>Within the past year</td>\n      <td>0.0</td>\n      <td>1.0</td>\n      <td>0.0</td>\n      <td>0.0</td>\n      <td>0.0</td>\n      <td>3.0</td>\n      <td>0.0</td>\n      <td>0.0</td>\n      <td>70-74</td>\n      <td>165.0</td>\n      <td>77.11</td>\n      <td>28.29</td>\n      <td>0.0</td>\n      <td>0.0</td>\n      <td>30.0</td>\n      <td>0.0</td>\n      <td>4.0</td>\n    </tr>\n    <tr>\n      <th>2</th>\n      <td>3.0</td>\n      <td>Within the past year</td>\n      <td>1.0</td>\n      <td>0.0</td>\n      <td>0.0</td>\n      <td>0.0</td>\n      <td>0.0</td>\n      <td>3.0</td>\n      <td>0.0</td>\n      <td>0.0</td>\n      <td>60-64</td>\n      <td>163.0</td>\n      <td>88.45</td>\n      <td>33.47</td>\n      <td>0.0</td>\n      <td>4.0</td>\n      <td>12.0</td>\n      <td>3.0</td>\n      <td>16.0</td>\n    </tr>\n    <tr>\n      <th>3</th>\n      <td>0.0</td>\n      <td>Within the past year</td>\n      <td>1.0</td>\n      <td>1.0</td>\n      <td>0.0</td>\n      <td>0.0</td>\n      <td>0.0</td>\n      <td>3.0</td>\n      <td>0.0</td>\n      <td>1.0</td>\n      <td>75-79</td>\n      <td>180.0</td>\n      <td>93.44</td>\n      <td>28.73</td>\n      <td>0.0</td>\n      <td>0.0</td>\n      <td>30.0</td>\n      <td>30.0</td>\n      <td>8.0</td>\n    </tr>\n    <tr>\n      <th>4</th>\n      <td>2.0</td>\n      <td>Within the past year</td>\n      <td>0.0</td>\n      <td>0.0</td>\n      <td>0.0</td>\n      <td>0.0</td>\n      <td>0.0</td>\n      <td>0.0</td>\n      <td>0.0</td>\n      <td>1.0</td>\n      <td>80+</td>\n      <td>191.0</td>\n      <td>88.45</td>\n      <td>24.37</td>\n      <td>1.0</td>\n      <td>0.0</td>\n      <td>8.0</td>\n      <td>4.0</td>\n      <td>0.0</td>\n    </tr>\n  </tbody>\n</table>\n</div>"
     },
     "execution_count": 14,
     "metadata": {},
     "output_type": "execute_result"
    }
   ]
  },
  {
   "cell_type": "code",
   "source": [
    "rank2=['Within the past year','Within the past 2 years','Within the past 5 years','5 or more years ago','Never']\n",
    "oe2 = OrdinalEncoder(categories=[rank2])\n",
    "df['Checkup']=oe2.fit_transform(df[['Checkup']])\n",
    "df.head()"
   ],
   "metadata": {
    "execution": {
     "iopub.status.busy": "2023-07-03T20:46:02.499852Z",
     "iopub.execute_input": "2023-07-03T20:46:02.500595Z",
     "iopub.status.idle": "2023-07-03T20:46:02.684386Z",
     "shell.execute_reply.started": "2023-07-03T20:46:02.500551Z",
     "shell.execute_reply": "2023-07-03T20:46:02.683122Z"
    },
    "trusted": true,
    "ExecuteTime": {
     "end_time": "2023-08-03T19:14:17.329014800Z",
     "start_time": "2023-08-03T19:14:17.191246100Z"
    }
   },
   "execution_count": 15,
   "outputs": [
    {
     "data": {
      "text/plain": "   General_Health  Checkup  Exercise  Heart_Disease  Skin_Cancer  \\\n0             0.0      1.0       0.0            0.0          0.0   \n1             3.0      0.0       0.0            1.0          0.0   \n2             3.0      0.0       1.0            0.0          0.0   \n3             0.0      0.0       1.0            1.0          0.0   \n4             2.0      0.0       0.0            0.0          0.0   \n\n   Other_Cancer  Depression  Diabetes  Arthritis  Sex Age_Category  \\\n0           0.0         0.0       0.0        1.0  0.0        70-74   \n1           0.0         0.0       3.0        0.0  0.0        70-74   \n2           0.0         0.0       3.0        0.0  0.0        60-64   \n3           0.0         0.0       3.0        0.0  1.0        75-79   \n4           0.0         0.0       0.0        0.0  1.0          80+   \n\n   Height_(cm)  Weight_(kg)    BMI  Smoking_History  Alcohol_Consumption  \\\n0        150.0        32.66  14.54              1.0                  0.0   \n1        165.0        77.11  28.29              0.0                  0.0   \n2        163.0        88.45  33.47              0.0                  4.0   \n3        180.0        93.44  28.73              0.0                  0.0   \n4        191.0        88.45  24.37              1.0                  0.0   \n\n   Fruit_Consumption  Green_Vegetables_Consumption  FriedPotato_Consumption  \n0               30.0                          16.0                     12.0  \n1               30.0                           0.0                      4.0  \n2               12.0                           3.0                     16.0  \n3               30.0                          30.0                      8.0  \n4                8.0                           4.0                      0.0  ",
      "text/html": "<div>\n<style scoped>\n    .dataframe tbody tr th:only-of-type {\n        vertical-align: middle;\n    }\n\n    .dataframe tbody tr th {\n        vertical-align: top;\n    }\n\n    .dataframe thead th {\n        text-align: right;\n    }\n</style>\n<table border=\"1\" class=\"dataframe\">\n  <thead>\n    <tr style=\"text-align: right;\">\n      <th></th>\n      <th>General_Health</th>\n      <th>Checkup</th>\n      <th>Exercise</th>\n      <th>Heart_Disease</th>\n      <th>Skin_Cancer</th>\n      <th>Other_Cancer</th>\n      <th>Depression</th>\n      <th>Diabetes</th>\n      <th>Arthritis</th>\n      <th>Sex</th>\n      <th>Age_Category</th>\n      <th>Height_(cm)</th>\n      <th>Weight_(kg)</th>\n      <th>BMI</th>\n      <th>Smoking_History</th>\n      <th>Alcohol_Consumption</th>\n      <th>Fruit_Consumption</th>\n      <th>Green_Vegetables_Consumption</th>\n      <th>FriedPotato_Consumption</th>\n    </tr>\n  </thead>\n  <tbody>\n    <tr>\n      <th>0</th>\n      <td>0.0</td>\n      <td>1.0</td>\n      <td>0.0</td>\n      <td>0.0</td>\n      <td>0.0</td>\n      <td>0.0</td>\n      <td>0.0</td>\n      <td>0.0</td>\n      <td>1.0</td>\n      <td>0.0</td>\n      <td>70-74</td>\n      <td>150.0</td>\n      <td>32.66</td>\n      <td>14.54</td>\n      <td>1.0</td>\n      <td>0.0</td>\n      <td>30.0</td>\n      <td>16.0</td>\n      <td>12.0</td>\n    </tr>\n    <tr>\n      <th>1</th>\n      <td>3.0</td>\n      <td>0.0</td>\n      <td>0.0</td>\n      <td>1.0</td>\n      <td>0.0</td>\n      <td>0.0</td>\n      <td>0.0</td>\n      <td>3.0</td>\n      <td>0.0</td>\n      <td>0.0</td>\n      <td>70-74</td>\n      <td>165.0</td>\n      <td>77.11</td>\n      <td>28.29</td>\n      <td>0.0</td>\n      <td>0.0</td>\n      <td>30.0</td>\n      <td>0.0</td>\n      <td>4.0</td>\n    </tr>\n    <tr>\n      <th>2</th>\n      <td>3.0</td>\n      <td>0.0</td>\n      <td>1.0</td>\n      <td>0.0</td>\n      <td>0.0</td>\n      <td>0.0</td>\n      <td>0.0</td>\n      <td>3.0</td>\n      <td>0.0</td>\n      <td>0.0</td>\n      <td>60-64</td>\n      <td>163.0</td>\n      <td>88.45</td>\n      <td>33.47</td>\n      <td>0.0</td>\n      <td>4.0</td>\n      <td>12.0</td>\n      <td>3.0</td>\n      <td>16.0</td>\n    </tr>\n    <tr>\n      <th>3</th>\n      <td>0.0</td>\n      <td>0.0</td>\n      <td>1.0</td>\n      <td>1.0</td>\n      <td>0.0</td>\n      <td>0.0</td>\n      <td>0.0</td>\n      <td>3.0</td>\n      <td>0.0</td>\n      <td>1.0</td>\n      <td>75-79</td>\n      <td>180.0</td>\n      <td>93.44</td>\n      <td>28.73</td>\n      <td>0.0</td>\n      <td>0.0</td>\n      <td>30.0</td>\n      <td>30.0</td>\n      <td>8.0</td>\n    </tr>\n    <tr>\n      <th>4</th>\n      <td>2.0</td>\n      <td>0.0</td>\n      <td>0.0</td>\n      <td>0.0</td>\n      <td>0.0</td>\n      <td>0.0</td>\n      <td>0.0</td>\n      <td>0.0</td>\n      <td>0.0</td>\n      <td>1.0</td>\n      <td>80+</td>\n      <td>191.0</td>\n      <td>88.45</td>\n      <td>24.37</td>\n      <td>1.0</td>\n      <td>0.0</td>\n      <td>8.0</td>\n      <td>4.0</td>\n      <td>0.0</td>\n    </tr>\n  </tbody>\n</table>\n</div>"
     },
     "execution_count": 15,
     "metadata": {},
     "output_type": "execute_result"
    }
   ]
  },
  {
   "cell_type": "code",
   "source": [
    "df['Age_Category']=df['Age_Category'].str[:2].astype(int)"
   ],
   "metadata": {
    "execution": {
     "iopub.status.busy": "2023-07-03T20:46:02.686112Z",
     "iopub.execute_input": "2023-07-03T20:46:02.68664Z",
     "iopub.status.idle": "2023-07-03T20:46:02.86935Z",
     "shell.execute_reply.started": "2023-07-03T20:46:02.686599Z",
     "shell.execute_reply": "2023-07-03T20:46:02.86839Z"
    },
    "trusted": true,
    "ExecuteTime": {
     "end_time": "2023-08-03T19:14:17.475022400Z",
     "start_time": "2023-08-03T19:14:17.297025400Z"
    }
   },
   "execution_count": 16,
   "outputs": []
  },
  {
   "cell_type": "code",
   "source": [
    "df.info()"
   ],
   "metadata": {
    "execution": {
     "iopub.status.busy": "2023-07-03T20:46:02.870893Z",
     "iopub.execute_input": "2023-07-03T20:46:02.871279Z",
     "iopub.status.idle": "2023-07-03T20:46:02.892358Z",
     "shell.execute_reply.started": "2023-07-03T20:46:02.871248Z",
     "shell.execute_reply": "2023-07-03T20:46:02.891402Z"
    },
    "trusted": true,
    "ExecuteTime": {
     "end_time": "2023-08-03T19:14:17.544986700Z",
     "start_time": "2023-08-03T19:14:17.377673300Z"
    }
   },
   "execution_count": 17,
   "outputs": [
    {
     "name": "stdout",
     "output_type": "stream",
     "text": [
      "<class 'pandas.core.frame.DataFrame'>\n",
      "RangeIndex: 308854 entries, 0 to 308853\n",
      "Data columns (total 19 columns):\n",
      " #   Column                        Non-Null Count   Dtype  \n",
      "---  ------                        --------------   -----  \n",
      " 0   General_Health                308854 non-null  float64\n",
      " 1   Checkup                       308854 non-null  float64\n",
      " 2   Exercise                      308854 non-null  float64\n",
      " 3   Heart_Disease                 308854 non-null  float64\n",
      " 4   Skin_Cancer                   308854 non-null  float64\n",
      " 5   Other_Cancer                  308854 non-null  float64\n",
      " 6   Depression                    308854 non-null  float64\n",
      " 7   Diabetes                      308854 non-null  float64\n",
      " 8   Arthritis                     308854 non-null  float64\n",
      " 9   Sex                           308854 non-null  float64\n",
      " 10  Age_Category                  308854 non-null  int32  \n",
      " 11  Height_(cm)                   308854 non-null  float64\n",
      " 12  Weight_(kg)                   308854 non-null  float64\n",
      " 13  BMI                           308854 non-null  float64\n",
      " 14  Smoking_History               308854 non-null  float64\n",
      " 15  Alcohol_Consumption           308854 non-null  float64\n",
      " 16  Fruit_Consumption             308854 non-null  float64\n",
      " 17  Green_Vegetables_Consumption  308854 non-null  float64\n",
      " 18  FriedPotato_Consumption       308854 non-null  float64\n",
      "dtypes: float64(18), int32(1)\n",
      "memory usage: 43.6 MB\n"
     ]
    }
   ]
  },
  {
   "cell_type": "code",
   "execution_count": 18,
   "outputs": [
    {
     "data": {
      "text/plain": "BMI                              28.626211\nAge_Category                     52.558468\nHeight_(cm)                     170.615249\nWeight_(kg)                      83.588655\nFriedPotato_Consumption           6.296616\nGreen_Vegetables_Consumption     15.110441\nGeneral_Health                    2.530448\nFruit_Consumption                29.835200\nCheckup                           0.382019\nDiabetes                          0.429656\nAlcohol_Consumption               5.096366\ndtype: float64"
     },
     "execution_count": 18,
     "metadata": {},
     "output_type": "execute_result"
    }
   ],
   "source": [
    "# Relevant features [df_easy_BMI, df_easy_age, df_easy_height, df_easy_weight, df_easy_fried, df_easy_green, df_easy_general, df_easy_fruit, df_easy_checkup, df_easy_diabetes, df_easy_alcohol]\n",
    "df[['BMI', 'Age_Category', 'Height_(cm)', 'Weight_(kg)', 'FriedPotato_Consumption', 'Green_Vegetables_Consumption', 'General_Health', 'Fruit_Consumption', 'Checkup', 'Diabetes', 'Alcohol_Consumption']].mean()"
   ],
   "metadata": {
    "collapsed": false,
    "ExecuteTime": {
     "end_time": "2023-08-03T19:14:17.547497400Z",
     "start_time": "2023-08-03T19:14:17.410568100Z"
    }
   }
  },
  {
   "cell_type": "code",
   "execution_count": 19,
   "outputs": [
    {
     "name": "stderr",
     "output_type": "stream",
     "text": [
      "C:\\Users\\sasop\\AppData\\Local\\Temp\\ipykernel_18788\\764743000.py:19: SettingWithCopyWarning: \n",
      "A value is trying to be set on a copy of a slice from a DataFrame.\n",
      "Try using .loc[row_indexer,col_indexer] = value instead\n",
      "\n",
      "See the caveats in the documentation: https://pandas.pydata.org/pandas-docs/stable/user_guide/indexing.html#returning-a-view-versus-a-copy\n",
      "  df_easy['Level'] = 'Easy'\n",
      "C:\\Users\\sasop\\AppData\\Local\\Temp\\ipykernel_18788\\764743000.py:20: SettingWithCopyWarning: \n",
      "A value is trying to be set on a copy of a slice from a DataFrame.\n",
      "Try using .loc[row_indexer,col_indexer] = value instead\n",
      "\n",
      "See the caveats in the documentation: https://pandas.pydata.org/pandas-docs/stable/user_guide/indexing.html#returning-a-view-versus-a-copy\n",
      "  df_medium['Level'] = 'Medium'\n",
      "C:\\Users\\sasop\\AppData\\Local\\Temp\\ipykernel_18788\\764743000.py:21: SettingWithCopyWarning: \n",
      "A value is trying to be set on a copy of a slice from a DataFrame.\n",
      "Try using .loc[row_indexer,col_indexer] = value instead\n",
      "\n",
      "See the caveats in the documentation: https://pandas.pydata.org/pandas-docs/stable/user_guide/indexing.html#returning-a-view-versus-a-copy\n",
      "  df_hard['Level'] = 'Hard'\n"
     ]
    }
   ],
   "source": [
    "def split_dataframe_distribution(df):\n",
    "    columns = ['BMI', 'Age_Category', 'Height_(cm)', 'Weight_(kg)', 'FriedPotato_Consumption', 'Green_Vegetables_Consumption', 'General_Health', 'Fruit_Consumption', 'Checkup', 'Diabetes', 'Alcohol_Consumption']\n",
    "\n",
    "    df['Sum_Columns'] = df[columns].sum(axis=1)  # Add a new column that sums up the values in each row\n",
    "\n",
    "    mean = df['Sum_Columns'].mean()  # Calculate the mean of the Sum_Columns\n",
    "    std = df['Sum_Columns'].std()  # Calculate the standard deviation of the Sum_Columns\n",
    "\n",
    "\n",
    "    df_easy = df[(df['Sum_Columns'] > mean - std) & (df['Sum_Columns'] < mean + std)]\n",
    "\n",
    "    df_medium = df[((df['Sum_Columns'] >= mean - 2 * std) & (df['Sum_Columns'] <= mean - std)) |\n",
    "                   ((df['Sum_Columns'] <= mean + 2 * std) & (df['Sum_Columns'] >= mean + std))]\n",
    "\n",
    "    df_hard = df[(df['Sum_Columns'] < mean - 2 * std) | (df['Sum_Columns'] > mean + 2 * std)]\n",
    "\n",
    "\n",
    "\n",
    "    df_easy['Level'] = 'Easy'\n",
    "    df_medium['Level'] = 'Medium'\n",
    "    df_hard['Level'] = 'Hard'\n",
    "\n",
    "    return df_easy, df_medium, df_hard\n",
    "\n",
    "df_easy, df_medium, df_hard = split_dataframe_distribution(df)\n",
    "\n",
    "\n"
   ],
   "metadata": {
    "collapsed": false,
    "ExecuteTime": {
     "end_time": "2023-08-03T19:14:17.612220300Z",
     "start_time": "2023-08-03T19:14:17.458495100Z"
    }
   }
  },
  {
   "cell_type": "code",
   "execution_count": 20,
   "outputs": [
    {
     "data": {
      "text/plain": "       Sum_Columns\nLevel             \nEasy        346.88",
      "text/html": "<div>\n<style scoped>\n    .dataframe tbody tr th:only-of-type {\n        vertical-align: middle;\n    }\n\n    .dataframe tbody tr th {\n        vertical-align: top;\n    }\n\n    .dataframe thead th {\n        text-align: right;\n    }\n</style>\n<table border=\"1\" class=\"dataframe\">\n  <thead>\n    <tr style=\"text-align: right;\">\n      <th></th>\n      <th>Sum_Columns</th>\n    </tr>\n    <tr>\n      <th>Level</th>\n      <th></th>\n    </tr>\n  </thead>\n  <tbody>\n    <tr>\n      <th>Easy</th>\n      <td>346.88</td>\n    </tr>\n  </tbody>\n</table>\n</div>"
     },
     "execution_count": 20,
     "metadata": {},
     "output_type": "execute_result"
    }
   ],
   "source": [
    "df_easy.groupby('Level').min()[['Sum_Columns']]"
   ],
   "metadata": {
    "collapsed": false,
    "ExecuteTime": {
     "end_time": "2023-08-03T19:14:17.640339500Z",
     "start_time": "2023-08-03T19:14:17.579613Z"
    }
   }
  },
  {
   "cell_type": "code",
   "execution_count": 21,
   "outputs": [
    {
     "data": {
      "text/plain": "        Sum_Columns\nLevel              \nMedium       298.68",
      "text/html": "<div>\n<style scoped>\n    .dataframe tbody tr th:only-of-type {\n        vertical-align: middle;\n    }\n\n    .dataframe tbody tr th {\n        vertical-align: top;\n    }\n\n    .dataframe thead th {\n        text-align: right;\n    }\n</style>\n<table border=\"1\" class=\"dataframe\">\n  <thead>\n    <tr style=\"text-align: right;\">\n      <th></th>\n      <th>Sum_Columns</th>\n    </tr>\n    <tr>\n      <th>Level</th>\n      <th></th>\n    </tr>\n  </thead>\n  <tbody>\n    <tr>\n      <th>Medium</th>\n      <td>298.68</td>\n    </tr>\n  </tbody>\n</table>\n</div>"
     },
     "execution_count": 21,
     "metadata": {},
     "output_type": "execute_result"
    }
   ],
   "source": [
    "df_medium.groupby('Level').min()[['Sum_Columns']]"
   ],
   "metadata": {
    "collapsed": false,
    "ExecuteTime": {
     "end_time": "2023-08-03T19:14:17.732214600Z",
     "start_time": "2023-08-03T19:14:17.625788600Z"
    }
   }
  },
  {
   "cell_type": "code",
   "execution_count": 22,
   "outputs": [
    {
     "data": {
      "text/plain": "       Sum_Columns\nLevel             \nHard        218.91",
      "text/html": "<div>\n<style scoped>\n    .dataframe tbody tr th:only-of-type {\n        vertical-align: middle;\n    }\n\n    .dataframe tbody tr th {\n        vertical-align: top;\n    }\n\n    .dataframe thead th {\n        text-align: right;\n    }\n</style>\n<table border=\"1\" class=\"dataframe\">\n  <thead>\n    <tr style=\"text-align: right;\">\n      <th></th>\n      <th>Sum_Columns</th>\n    </tr>\n    <tr>\n      <th>Level</th>\n      <th></th>\n    </tr>\n  </thead>\n  <tbody>\n    <tr>\n      <th>Hard</th>\n      <td>218.91</td>\n    </tr>\n  </tbody>\n</table>\n</div>"
     },
     "execution_count": 22,
     "metadata": {},
     "output_type": "execute_result"
    }
   ],
   "source": [
    "df_hard.groupby('Level').min()[['Sum_Columns']]"
   ],
   "metadata": {
    "collapsed": false,
    "ExecuteTime": {
     "end_time": "2023-08-03T19:14:17.764322Z",
     "start_time": "2023-08-03T19:14:17.658405700Z"
    }
   }
  },
  {
   "cell_type": "code",
   "execution_count": 41,
   "outputs": [
    {
     "data": {
      "text/plain": "Level\nEasy      69.66\nMedium    25.76\nHard       4.58\nName: proportion, dtype: float64"
     },
     "execution_count": 41,
     "metadata": {},
     "output_type": "execute_result"
    }
   ],
   "source": [
    "df_curriculum = pd.concat([df_easy, df_medium ,df_hard], axis=0, join=\"inner\")\n",
    "\n",
    "\n",
    "# Shuffle the dataframe\n",
    "df_curriculum = df_curriculum.sample(frac=1).reset_index(drop=True)\n",
    "\n",
    "subset_cols = list(df_curriculum.columns)  # List of all columns\n",
    "column_to_ignore = 'Level'  # Replace 'column_name' with the column you want to ignore\n",
    "subset_cols.remove(column_to_ignore)\n",
    "\n",
    "# Remove duplicates while ignoring a specific column\n",
    "df_curriculum = df_curriculum.drop_duplicates(keep='last' ,subset=subset_cols)\n",
    "round(df_curriculum['Level'].value_counts(normalize=True) * 100, 2)"
   ],
   "metadata": {
    "collapsed": false,
    "ExecuteTime": {
     "end_time": "2023-08-03T19:19:27.692255200Z",
     "start_time": "2023-08-03T19:19:27.353968100Z"
    }
   }
  },
  {
   "cell_type": "code",
   "execution_count": 39,
   "outputs": [
    {
     "data": {
      "text/plain": "Level\nEasy      215101\nMedium     79536\nHard       14137\nName: count, dtype: int64"
     },
     "execution_count": 39,
     "metadata": {},
     "output_type": "execute_result"
    }
   ],
   "source": [
    "df_curriculum['Level'].value_counts()"
   ],
   "metadata": {
    "collapsed": false,
    "ExecuteTime": {
     "end_time": "2023-08-03T19:19:00.570084700Z",
     "start_time": "2023-08-03T19:19:00.530915600Z"
    }
   }
  },
  {
   "cell_type": "code",
   "execution_count": 24,
   "outputs": [
    {
     "data": {
      "text/plain": "<Axes: >"
     },
     "execution_count": 24,
     "metadata": {},
     "output_type": "execute_result"
    },
    {
     "data": {
      "text/plain": "<Figure size 640x480 with 1 Axes>",
      "image/png": "[encoded data removed]"
     },
     "metadata": {},
     "output_type": "display_data"
    }
   ],
   "source": [
    "df_curriculum['Level'].hist()"
   ],
   "metadata": {
    "collapsed": false,
    "ExecuteTime": {
     "end_time": "2023-08-03T19:14:18.356862Z",
     "start_time": "2023-08-03T19:14:18.094858100Z"
    }
   }
  },
  {
   "cell_type": "code",
   "execution_count": 25,
   "outputs": [
    {
     "data": {
      "text/plain": "        Sum_Columns\nLevel              \nEasy         392.51\nHard         500.19\nMedium       345.17",
      "text/html": "<div>\n<style scoped>\n    .dataframe tbody tr th:only-of-type {\n        vertical-align: middle;\n    }\n\n    .dataframe tbody tr th {\n        vertical-align: top;\n    }\n\n    .dataframe thead th {\n        text-align: right;\n    }\n</style>\n<table border=\"1\" class=\"dataframe\">\n  <thead>\n    <tr style=\"text-align: right;\">\n      <th></th>\n      <th>Sum_Columns</th>\n    </tr>\n    <tr>\n      <th>Level</th>\n      <th></th>\n    </tr>\n  </thead>\n  <tbody>\n    <tr>\n      <th>Easy</th>\n      <td>392.51</td>\n    </tr>\n    <tr>\n      <th>Hard</th>\n      <td>500.19</td>\n    </tr>\n    <tr>\n      <th>Medium</th>\n      <td>345.17</td>\n    </tr>\n  </tbody>\n</table>\n</div>"
     },
     "execution_count": 25,
     "metadata": {},
     "output_type": "execute_result"
    }
   ],
   "source": [
    "# Calculate mean Height and Weight for each level\n",
    "df_curriculum.groupby('Level').median()[['Sum_Columns']]"
   ],
   "metadata": {
    "collapsed": false,
    "ExecuteTime": {
     "end_time": "2023-08-03T19:14:18.485923100Z",
     "start_time": "2023-08-03T19:14:18.366881200Z"
    }
   }
  },
  {
   "cell_type": "code",
   "execution_count": 26,
   "outputs": [
    {
     "data": {
      "text/plain": "308774"
     },
     "execution_count": 26,
     "metadata": {},
     "output_type": "execute_result"
    }
   ],
   "source": [
    "df_curriculum.shape[0]"
   ],
   "metadata": {
    "collapsed": false,
    "ExecuteTime": {
     "end_time": "2023-08-03T19:14:18.542622600Z",
     "start_time": "2023-08-03T19:14:18.484925600Z"
    }
   }
  },
  {
   "cell_type": "code",
   "execution_count": 27,
   "outputs": [],
   "source": [
    "df_curriculum['Level'] = pd.Categorical(df_curriculum['Level'], [\"Easy\", \"Medium\", \"Hard\"])\n",
    "df_curriculum.sort_values(\"Level\", inplace=True)"
   ],
   "metadata": {
    "collapsed": false,
    "ExecuteTime": {
     "end_time": "2023-08-03T19:14:18.650392700Z",
     "start_time": "2023-08-03T19:14:18.501120700Z"
    }
   }
  },
  {
   "cell_type": "code",
   "execution_count": 28,
   "outputs": [],
   "source": [
    "df_curriculum.to_csv(f\"../../datasets/CVD_curriculum.csv\")"
   ],
   "metadata": {
    "collapsed": false,
    "ExecuteTime": {
     "end_time": "2023-08-03T19:14:21.376982600Z",
     "start_time": "2023-08-03T19:14:18.561349900Z"
    }
   }
  },
  {
   "cell_type": "code",
   "execution_count": 29,
   "outputs": [
    {
     "data": {
      "text/plain": "count    308774.000000\nmean        395.072767\nstd          48.199795\nmin         218.910000\n25%         362.170000\n50%         392.450000\n75%         424.790000\nmax         740.530000\nName: Sum_Columns, dtype: float64"
     },
     "execution_count": 29,
     "metadata": {},
     "output_type": "execute_result"
    }
   ],
   "source": [
    "df_curriculum['Sum_Columns'].describe()  # Calculate the mean of the Sum_Columns"
   ],
   "metadata": {
    "collapsed": false,
    "ExecuteTime": {
     "end_time": "2023-08-03T19:14:21.438090300Z",
     "start_time": "2023-08-03T19:14:21.379190500Z"
    }
   }
  },
  {
   "cell_type": "code",
   "source": [
    "\n",
    "#df_curriculum.rename(columns={'Sum_Columns': 'Aggregate Sum of Numerical Features'}, inplace=True)\n",
    "import matplotlib.pyplot as plt\n",
    "import seaborn as sns\n",
    "import warnings\n",
    "warnings.filterwarnings('ignore')\n",
    "ax = plt.gca()\n",
    "ax.set_title(\"Curriculum levels distribution\")\n",
    "ax.set_xlabel(\"Aggregate sum of numerical features\")\n",
    "ax.set_ylabel(\"Number of samples\")\n",
    "sns.histplot(x='Sum_Columns', bins=100, hue='Level', data=df_curriculum).figure.savefig(\"curriculum-levels.pdf\")\n"
   ],
   "metadata": {
    "execution": {
     "iopub.status.busy": "2023-07-03T20:46:02.946011Z",
     "iopub.execute_input": "2023-07-03T20:46:02.94666Z",
     "iopub.status.idle": "2023-07-03T20:46:04.359403Z",
     "shell.execute_reply.started": "2023-07-03T20:46:02.946628Z",
     "shell.execute_reply": "2023-07-03T20:46:04.358526Z"
    },
    "trusted": true,
    "ExecuteTime": {
     "end_time": "2023-08-03T19:14:22.545104100Z",
     "start_time": "2023-08-03T19:14:21.411699200Z"
    }
   },
   "execution_count": 30,
   "outputs": [
    {
     "data": {
      "text/plain": "<Figure size 640x480 with 1 Axes>",
      "image/png": "[encoded data removed]"
     },
     "metadata": {},
     "output_type": "display_data"
    }
   ]
  }
 ]
}
